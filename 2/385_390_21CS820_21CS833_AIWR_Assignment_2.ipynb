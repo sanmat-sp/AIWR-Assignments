{
  "nbformat": 4,
  "nbformat_minor": 0,
  "metadata": {
    "colab": {
      "provenance": []
    },
    "kernelspec": {
      "name": "python3",
      "display_name": "Python 3"
    },
    "language_info": {
      "name": "python"
    }
  },
  "cells": [
    {
      "cell_type": "code",
      "execution_count": 2,
      "metadata": {
        "id": "UyzB-nuThz61",
        "colab": {
          "base_uri": "https://localhost:8080/"
        },
        "outputId": "5d203875-24c6-482f-d58f-3b20c21f7848"
      },
      "outputs": [
        {
          "output_type": "stream",
          "name": "stdout",
          "text": [
            "   user_id  item_id  rating  timestamp\n",
            "0      196      242       3  881250949\n",
            "1      186      302       3  891717742\n",
            "2       22      377       1  878887116\n",
            "3      244       51       2  880606923\n",
            "4      166      346       1  886397596\n"
          ]
        }
      ],
      "source": [
        "import pandas as pd\n",
        "import numpy as np\n",
        "import matplotlib.pyplot as plt\n",
        "import seaborn as sns\n",
        "\n",
        "# Load the dataset\n",
        "data = pd.read_csv('u.data', sep='\\t', names=['user_id', 'item_id', 'rating', 'timestamp'])\n",
        "\n",
        "# Check the first five rows of the dataset\n",
        "print(data.head())"
      ]
    },
    {
      "cell_type": "code",
      "source": [
        "!pip install seaborn\n",
        "!pip install surprise"
      ],
      "metadata": {
        "colab": {
          "base_uri": "https://localhost:8080/"
        },
        "id": "kKgMtenlioZg",
        "outputId": "ea0931f7-ebe4-40a4-b799-a17639142363"
      },
      "execution_count": 3,
      "outputs": [
        {
          "output_type": "stream",
          "name": "stdout",
          "text": [
            "Looking in indexes: https://pypi.org/simple, https://us-python.pkg.dev/colab-wheels/public/simple/\n",
            "Requirement already satisfied: seaborn in /usr/local/lib/python3.9/dist-packages (0.12.2)\n",
            "Requirement already satisfied: numpy!=1.24.0,>=1.17 in /usr/local/lib/python3.9/dist-packages (from seaborn) (1.22.4)\n",
            "Requirement already satisfied: matplotlib!=3.6.1,>=3.1 in /usr/local/lib/python3.9/dist-packages (from seaborn) (3.7.1)\n",
            "Requirement already satisfied: pandas>=0.25 in /usr/local/lib/python3.9/dist-packages (from seaborn) (1.5.3)\n",
            "Requirement already satisfied: python-dateutil>=2.7 in /usr/local/lib/python3.9/dist-packages (from matplotlib!=3.6.1,>=3.1->seaborn) (2.8.2)\n",
            "Requirement already satisfied: cycler>=0.10 in /usr/local/lib/python3.9/dist-packages (from matplotlib!=3.6.1,>=3.1->seaborn) (0.11.0)\n",
            "Requirement already satisfied: pillow>=6.2.0 in /usr/local/lib/python3.9/dist-packages (from matplotlib!=3.6.1,>=3.1->seaborn) (8.4.0)\n",
            "Requirement already satisfied: packaging>=20.0 in /usr/local/lib/python3.9/dist-packages (from matplotlib!=3.6.1,>=3.1->seaborn) (23.1)\n",
            "Requirement already satisfied: fonttools>=4.22.0 in /usr/local/lib/python3.9/dist-packages (from matplotlib!=3.6.1,>=3.1->seaborn) (4.39.3)\n",
            "Requirement already satisfied: pyparsing>=2.3.1 in /usr/local/lib/python3.9/dist-packages (from matplotlib!=3.6.1,>=3.1->seaborn) (3.0.9)\n",
            "Requirement already satisfied: importlib-resources>=3.2.0 in /usr/local/lib/python3.9/dist-packages (from matplotlib!=3.6.1,>=3.1->seaborn) (5.12.0)\n",
            "Requirement already satisfied: contourpy>=1.0.1 in /usr/local/lib/python3.9/dist-packages (from matplotlib!=3.6.1,>=3.1->seaborn) (1.0.7)\n",
            "Requirement already satisfied: kiwisolver>=1.0.1 in /usr/local/lib/python3.9/dist-packages (from matplotlib!=3.6.1,>=3.1->seaborn) (1.4.4)\n",
            "Requirement already satisfied: pytz>=2020.1 in /usr/local/lib/python3.9/dist-packages (from pandas>=0.25->seaborn) (2022.7.1)\n",
            "Requirement already satisfied: zipp>=3.1.0 in /usr/local/lib/python3.9/dist-packages (from importlib-resources>=3.2.0->matplotlib!=3.6.1,>=3.1->seaborn) (3.15.0)\n",
            "Requirement already satisfied: six>=1.5 in /usr/local/lib/python3.9/dist-packages (from python-dateutil>=2.7->matplotlib!=3.6.1,>=3.1->seaborn) (1.16.0)\n",
            "Looking in indexes: https://pypi.org/simple, https://us-python.pkg.dev/colab-wheels/public/simple/\n",
            "Collecting surprise\n",
            "  Downloading surprise-0.1-py2.py3-none-any.whl (1.8 kB)\n",
            "Collecting scikit-surprise\n",
            "  Downloading scikit-surprise-1.1.3.tar.gz (771 kB)\n",
            "\u001b[2K     \u001b[90m━━━━━━━━━━━━━━━━━━━━━━━━━━━━━━━━━━━━━━\u001b[0m \u001b[32m772.0/772.0 kB\u001b[0m \u001b[31m13.4 MB/s\u001b[0m eta \u001b[36m0:00:00\u001b[0m\n",
            "\u001b[?25h  Preparing metadata (setup.py) ... \u001b[?25l\u001b[?25hdone\n",
            "Requirement already satisfied: joblib>=1.0.0 in /usr/local/lib/python3.9/dist-packages (from scikit-surprise->surprise) (1.2.0)\n",
            "Requirement already satisfied: numpy>=1.17.3 in /usr/local/lib/python3.9/dist-packages (from scikit-surprise->surprise) (1.22.4)\n",
            "Requirement already satisfied: scipy>=1.3.2 in /usr/local/lib/python3.9/dist-packages (from scikit-surprise->surprise) (1.10.1)\n",
            "Building wheels for collected packages: scikit-surprise\n",
            "  Building wheel for scikit-surprise (setup.py) ... \u001b[?25l\u001b[?25hdone\n",
            "  Created wheel for scikit-surprise: filename=scikit_surprise-1.1.3-cp39-cp39-linux_x86_64.whl size=3195814 sha256=3df1376f7562d903c979b48d9c189435e011dadd99ee348afc9724838666f2c1\n",
            "  Stored in directory: /root/.cache/pip/wheels/c6/3a/46/9b17b3512bdf283c6cb84f59929cdd5199d4e754d596d22784\n",
            "Successfully built scikit-surprise\n",
            "Installing collected packages: scikit-surprise, surprise\n",
            "Successfully installed scikit-surprise-1.1.3 surprise-0.1\n"
          ]
        }
      ]
    },
    {
      "cell_type": "code",
      "source": [
        "# Check the basic statistics of the dataset\n",
        "print(data.describe())"
      ],
      "metadata": {
        "colab": {
          "base_uri": "https://localhost:8080/"
        },
        "id": "ohtl_LHQjA3M",
        "outputId": "75b47563-e74c-4cbf-d9a8-6f6a180d8fac"
      },
      "execution_count": 4,
      "outputs": [
        {
          "output_type": "stream",
          "name": "stdout",
          "text": [
            "            user_id        item_id         rating     timestamp\n",
            "count  100000.00000  100000.000000  100000.000000  1.000000e+05\n",
            "mean      462.48475     425.530130       3.529860  8.835289e+08\n",
            "std       266.61442     330.798356       1.125674  5.343856e+06\n",
            "min         1.00000       1.000000       1.000000  8.747247e+08\n",
            "25%       254.00000     175.000000       3.000000  8.794487e+08\n",
            "50%       447.00000     322.000000       4.000000  8.828269e+08\n",
            "75%       682.00000     631.000000       4.000000  8.882600e+08\n",
            "max       943.00000    1682.000000       5.000000  8.932866e+08\n"
          ]
        }
      ]
    },
    {
      "cell_type": "code",
      "source": [
        "# Check the data types of the columns\n",
        "print(data.dtypes)"
      ],
      "metadata": {
        "colab": {
          "base_uri": "https://localhost:8080/"
        },
        "id": "nzBmEXXGjFSK",
        "outputId": "ce0fa021-0efb-4910-9dd7-58bfede2d373"
      },
      "execution_count": 5,
      "outputs": [
        {
          "output_type": "stream",
          "name": "stdout",
          "text": [
            "user_id      int64\n",
            "item_id      int64\n",
            "rating       int64\n",
            "timestamp    int64\n",
            "dtype: object\n"
          ]
        }
      ]
    },
    {
      "cell_type": "code",
      "source": [
        "# Check the missing values in the dataset\n",
        "print(data.isnull().sum())"
      ],
      "metadata": {
        "colab": {
          "base_uri": "https://localhost:8080/"
        },
        "id": "7qPyz725jHDE",
        "outputId": "f93cb2c8-8c52-46a9-9d07-b7d9e9757e79"
      },
      "execution_count": 6,
      "outputs": [
        {
          "output_type": "stream",
          "name": "stdout",
          "text": [
            "user_id      0\n",
            "item_id      0\n",
            "rating       0\n",
            "timestamp    0\n",
            "dtype: int64\n"
          ]
        }
      ]
    },
    {
      "cell_type": "code",
      "source": [
        "# Check the distribution of the target variable\n",
        "sns.histplot(data.rating)\n",
        "plt.show()"
      ],
      "metadata": {
        "colab": {
          "base_uri": "https://localhost:8080/",
          "height": 449
        },
        "id": "w4u5DAqNjNp-",
        "outputId": "dffcf201-ba3c-4561-be1a-56c72ba57d2e"
      },
      "execution_count": 7,
      "outputs": [
        {
          "output_type": "display_data",
          "data": {
            "text/plain": [
              "<Figure size 640x480 with 1 Axes>"
            ],
            "image/png": "[encoded data removed]"
          },
          "metadata": {}
        }
      ]
    },
    {
      "cell_type": "code",
      "source": [
        "# Check the distribution of the target variable\n",
        "sns.histplot(data.rating)\n",
        "plt.show()"
      ],
      "metadata": {
        "colab": {
          "base_uri": "https://localhost:8080/",
          "height": 449
        },
        "id": "0BllS7WmjTUu",
        "outputId": "adc3978d-332a-4fcc-8f0a-73107c9e7844"
      },
      "execution_count": 8,
      "outputs": [
        {
          "output_type": "display_data",
          "data": {
            "text/plain": [
              "<Figure size 640x480 with 1 Axes>"
            ],
            "image/png": "[encoded data removed]"
          },
          "metadata": {}
        }
      ]
    },
    {
      "cell_type": "code",
      "source": [
        "# Remove the timestamp column\n",
        "data.drop('timestamp', axis=1, inplace=True)"
      ],
      "metadata": {
        "id": "3LRVdlpHjWl0"
      },
      "execution_count": 9,
      "outputs": []
    },
    {
      "cell_type": "code",
      "source": [
        "# Check the unique values of the user_id and item_id\n",
        "n_users = len(data.user_id.unique())\n",
        "n_items = len(data.item_id.unique())\n",
        "\n",
        "print('Number of users:', n_users)\n",
        "print('Number of items:', n_items)"
      ],
      "metadata": {
        "colab": {
          "base_uri": "https://localhost:8080/"
        },
        "id": "VeFvRx93jZ1w",
        "outputId": "afc78ac5-f280-43b2-8aa1-fa2329112a6f"
      },
      "execution_count": 10,
      "outputs": [
        {
          "output_type": "stream",
          "name": "stdout",
          "text": [
            "Number of users: 943\n",
            "Number of items: 1682\n"
          ]
        }
      ]
    },
    {
      "cell_type": "code",
      "source": [
        "from sklearn.model_selection import train_test_split\n",
        "\n",
        "# Split the dataset into training and testing sets\n",
        "train_data, test_data = train_test_split(data, test_size=0.2, random_state=42)"
      ],
      "metadata": {
        "id": "59FXnhAqjcz3"
      },
      "execution_count": 11,
      "outputs": []
    },
    {
      "cell_type": "code",
      "source": [
        "# Create a user-item matrix\n",
        "train_matrix = np.zeros((n_users, n_items))\n",
        "\n",
        "for row in train_data.itertuples():\n",
        "    train_matrix[row[1]-1, row[2]-1] = row[3]"
      ],
      "metadata": {
        "id": "DgNS6-tOjf5K"
      },
      "execution_count": 12,
      "outputs": []
    },
    {
      "cell_type": "code",
      "source": [
        "from surprise import SVD\n",
        "from surprise import Dataset\n",
        "from surprise import Reader\n",
        "from surprise.model_selection import cross_validate\n",
        "\n",
        "# Load the dataset into the Surprise framework\n",
        "reader = Reader(rating_scale=(1, 5))\n",
        "data = Dataset.load_from_df(data[['user_id', 'item_id', 'rating']], reader)\n",
        "\n",
        "# Use the SVD algorithm\n",
        "algo = SVD()\n",
        "\n",
        "# Evaluate the algorithm using cross-validation\n",
        "cross_validate(algo, data, measures=['RMSE', 'MAE'], cv=5, verbose=True)"
      ],
      "metadata": {
        "colab": {
          "base_uri": "https://localhost:8080/"
        },
        "id": "6BvICjRvjivs",
        "outputId": "37b0c321-e70a-4975-9d30-a897fed9d3d7"
      },
      "execution_count": 13,
      "outputs": [
        {
          "output_type": "stream",
          "name": "stdout",
          "text": [
            "Evaluating RMSE, MAE of algorithm SVD on 5 split(s).\n",
            "\n",
            "                  Fold 1  Fold 2  Fold 3  Fold 4  Fold 5  Mean    Std     \n",
            "RMSE (testset)    0.9309  0.9371  0.9393  0.9363  0.9384  0.9364  0.0029  \n",
            "MAE (testset)     0.7326  0.7393  0.7401  0.7392  0.7397  0.7382  0.0028  \n",
            "Fit time          1.41    1.41    1.82    1.72    1.37    1.55    0.19    \n",
            "Test time         0.15    0.25    0.24    0.15    0.25    0.21    0.05    \n"
          ]
        },
        {
          "output_type": "execute_result",
          "data": {
            "text/plain": [
              "{'test_rmse': array([0.93094102, 0.93707689, 0.93931116, 0.93629783, 0.93836614]),\n",
              " 'test_mae': array([0.7325964 , 0.73926307, 0.74009306, 0.73916046, 0.7397395 ]),\n",
              " 'fit_time': (1.4063141345977783,\n",
              "  1.4131004810333252,\n",
              "  1.8212101459503174,\n",
              "  1.7154028415679932,\n",
              "  1.3715400695800781),\n",
              " 'test_time': (0.14972305297851562,\n",
              "  0.25066208839416504,\n",
              "  0.2391660213470459,\n",
              "  0.14664816856384277,\n",
              "  0.25367069244384766)}"
            ]
          },
          "metadata": {},
          "execution_count": 13
        }
      ]
    },
    {
      "cell_type": "code",
      "source": [
        "# Load the movies dataset\n",
        "movies = pd.read_csv('/u.item', sep='|', encoding='latin-1', header=None, names=['item_id', 'title', 'release_date', 'video_release_date', 'imdb_url', 'unknown', 'Action', 'Adventure', 'Animation', 'Childrens', 'Comedy', 'Crime', 'Documentary', 'Drama', 'Fantasy', 'Film-Noir', 'Horror', 'Musical', 'Mystery', 'Romance', 'Sci-Fi', 'Thriller', 'War', 'Western'])\n",
        "\n",
        "# Remove unnecessary columns\n",
        "movies.drop(['release_date', 'video_release_date', 'imdb_url'], axis=1, inplace=True)"
      ],
      "metadata": {
        "id": "pwGoHP6SjoEr"
      },
      "execution_count": 19,
      "outputs": []
    },
    {
      "cell_type": "code",
      "source": [
        "# Create a movie-genre matrix\n",
        "movie_genre_matrix = movies.iloc[:, 6:].values"
      ],
      "metadata": {
        "id": "6aDxlSEpkRO0"
      },
      "execution_count": 20,
      "outputs": []
    },
    {
      "cell_type": "code",
      "source": [
        "from sklearn.metrics.pairwise import cosine_similarity\n",
        "\n",
        "# Compute the pairwise cosine similarity between movies\n",
        "movie_similarity_matrix = cosine_similarity(movie_genre_matrix)"
      ],
      "metadata": {
        "id": "eeBgeCHXkg3p"
      },
      "execution_count": 21,
      "outputs": []
    },
    {
      "cell_type": "code",
      "source": [
        "# Get the index of the movie\n",
        "movie_index = movies[movies['title'] == 'Toy Story (1995)'].index.values[0]\n",
        "\n",
        "# Get the pairwise similarity scores for the given movie\n",
        "movie_similarity_scores = list(enumerate(movie_similarity_matrix[movie_index]))\n",
        "\n",
        "# Sort the movies based on the similarity scores\n",
        "sorted_movie_similarity_scores = sorted(movie_similarity_scores, key=lambda x: x[1], reverse=True)\n",
        "\n",
        "# Get the top 10 similar movies\n",
        "top_10_similar_movies = sorted_movie_similarity_scores[1:11]\n",
        "\n",
        "# Print the top 10 similar movies\n",
        "for i, score in top_10_similar_movies:\n",
        "    print(movies.iloc[i]['title'])"
      ],
      "metadata": {
        "colab": {
          "base_uri": "https://localhost:8080/"
        },
        "id": "uTciHPgakiEc",
        "outputId": "4ce8448f-eb64-442b-bf3f-cc82773c9305"
      },
      "execution_count": 22,
      "outputs": [
        {
          "output_type": "stream",
          "name": "stdout",
          "text": [
            "Santa Clause, The (1994)\n",
            "Home Alone (1990)\n",
            "D3: The Mighty Ducks (1996)\n",
            "Love Bug, The (1969)\n",
            "Willy Wonka and the Chocolate Factory (1971)\n",
            "101 Dalmatians (1996)\n",
            "Jungle2Jungle (1997)\n",
            "George of the Jungle (1997)\n",
            "Air Bud (1997)\n",
            "Heavyweights (1994)\n"
          ]
        }
      ]
    },
    {
      "cell_type": "code",
      "source": [
        "from surprise import Dataset, Reader\n",
        "from surprise import KNNBasic\n",
        "from surprise import accuracy\n",
        "from surprise.model_selection import train_test_split\n",
        "\n",
        "# Load the dataset\n",
        "reader = Reader(line_format='user item rating timestamp', sep='\\t')\n",
        "data = Dataset.load_from_file('u.data', reader=reader)\n",
        "\n",
        "# Split the dataset into training and testing sets\n",
        "trainset, testset = train_test_split(data, test_size=0.25)\n",
        "\n",
        "# Train the model\n",
        "model = KNNBasic()\n",
        "model.fit(trainset)\n",
        "\n",
        "# Make predictions on the testing set\n",
        "predictions = model.test(testset)\n",
        "\n",
        "# Compute the RMSE and MAE\n",
        "rmse = accuracy.rmse(predictions)\n",
        "mae = accuracy.mae(predictions)\n",
        "\n",
        "print(f'RMSE: {rmse}, MAE: {mae}')"
      ],
      "metadata": {
        "colab": {
          "base_uri": "https://localhost:8080/"
        },
        "id": "cjAEHJVFkoOF",
        "outputId": "ee4ef931-5fa6-4785-df4d-7d9f7c70c6cf"
      },
      "execution_count": 24,
      "outputs": [
        {
          "output_type": "stream",
          "name": "stdout",
          "text": [
            "Computing the msd similarity matrix...\n",
            "Done computing similarity matrix.\n",
            "RMSE: 0.9791\n",
            "MAE:  0.7737\n",
            "RMSE: 0.9791158220055713, MAE: 0.773733685739921\n"
          ]
        }
      ]
    },
    {
      "cell_type": "code",
      "source": [],
      "metadata": {
        "id": "tkutbLB2kvrR"
      },
      "execution_count": null,
      "outputs": []
    }
  ]
}